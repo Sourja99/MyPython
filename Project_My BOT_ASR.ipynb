{
 "cells": [
  {
   "cell_type": "code",
   "execution_count": 1,
   "id": "1e81b865",
   "metadata": {},
   "outputs": [
    {
     "name": "stdout",
     "output_type": "stream",
     "text": [
      "Requirement already satisfied: SpeechRecognition in c:\\users\\sipra\\anaconda3\\lib\\site-packages (3.8.1)\n",
      "Note: you may need to restart the kernel to use updated packages.\n"
     ]
    }
   ],
   "source": [
    "pip install SpeechRecognition"
   ]
  },
  {
   "cell_type": "code",
   "execution_count": 2,
   "id": "2def0551",
   "metadata": {},
   "outputs": [
    {
     "name": "stdout",
     "output_type": "stream",
     "text": [
      "Requirement already satisfied: pyttsx3 in c:\\users\\sipra\\anaconda3\\lib\\site-packages (2.90)\n",
      "Requirement already satisfied: pywin32 in c:\\users\\sipra\\anaconda3\\lib\\site-packages (from pyttsx3) (227)\n",
      "Requirement already satisfied: pypiwin32 in c:\\users\\sipra\\anaconda3\\lib\\site-packages (from pyttsx3) (223)\n",
      "Requirement already satisfied: comtypes in c:\\users\\sipra\\anaconda3\\lib\\site-packages (from pyttsx3) (1.1.9)\n",
      "Note: you may need to restart the kernel to use updated packages.\n"
     ]
    }
   ],
   "source": [
    "pip install pyttsx3"
   ]
  },
  {
   "cell_type": "code",
   "execution_count": 3,
   "id": "ab8afaba",
   "metadata": {},
   "outputs": [],
   "source": [
    "import speech_recognition as sr\n",
    "import pyttsx3"
   ]
  },
  {
   "cell_type": "code",
   "execution_count": 4,
   "id": "c9494fb9",
   "metadata": {},
   "outputs": [],
   "source": [
    "import urllib.request\n",
    "from PIL import Image\n",
    "import requests\n",
    "from bs4 import BeautifulSoup\n",
    "from PIL import Image"
   ]
  },
  {
   "cell_type": "code",
   "execution_count": 5,
   "id": "b765f1f8",
   "metadata": {},
   "outputs": [],
   "source": [
    "import webbrowser"
   ]
  },
  {
   "cell_type": "code",
   "execution_count": 6,
   "id": "9a5f11ed",
   "metadata": {},
   "outputs": [
    {
     "name": "stdout",
     "output_type": "stream",
     "text": [
      "Requirement already satisfied: PyAudio in c:\\users\\sipra\\anaconda3\\lib\\site-packages (0.2.11)\n"
     ]
    }
   ],
   "source": [
    "!pip install PyAudio\n",
    "import speech_recognition as sr"
   ]
  },
  {
   "cell_type": "code",
   "execution_count": 7,
   "id": "017ec7b6",
   "metadata": {},
   "outputs": [
    {
     "name": "stdout",
     "output_type": "stream",
     "text": [
      "Talk\n",
      "Time over, thanks\n",
      "Text: Python video\n"
     ]
    }
   ],
   "source": [
    "##########    Initial cell      ############\n",
    "\n",
    "r = sr.Recognizer()\n",
    "with sr.Microphone() as source:\n",
    "    print(\"Talk\")\n",
    "    audio_text = r.listen(source)\n",
    "    print(\"Time over, thanks\")\n",
    "    try:\n",
    "        # using google speech recognition\n",
    "        query = r.recognize_google(audio_text)\n",
    "        print(\"Text: \"+r.recognize_google(audio_text))\n",
    "    except:\n",
    "         print(\"Sorry, I did not get that\")"
   ]
  },
  {
   "cell_type": "raw",
   "id": "354c05f6",
   "metadata": {},
   "source": [
    "Example :For Finding Images Run the INITIAL Cell Say = 'Apple image' or 'ANYTHING image' and run the lower cell"
   ]
  },
  {
   "cell_type": "code",
   "execution_count": 8,
   "id": "0dcd3549",
   "metadata": {},
   "outputs": [],
   "source": [
    "if 'image' in query:\n",
    "    query += \"&tbm=isch\"\n",
    "    query = query.replace('images','')\n",
    "    query = query.replace('image','')\n",
    "    query = query.replace('search','')\n",
    "    query = query.replace('show','')\n",
    "    webbrowser.open(\"https://www.google.com/search?q=\" + query)\n"
   ]
  },
  {
   "cell_type": "raw",
   "id": "5bac545f",
   "metadata": {},
   "source": [
    "Example :For Finding Map Run the INITIAL Cell Say = 'Mumbai map' or 'ANYTHING map' and run the lower cell"
   ]
  },
  {
   "cell_type": "code",
   "execution_count": 9,
   "id": "6078e1bc",
   "metadata": {},
   "outputs": [],
   "source": [
    "if 'map' in query:\n",
    "    query = query.replace('maps', '')\n",
    "    query = query.replace('map', '')\n",
    "    query = query.replace('google', '')\n",
    "    webbrowser.open('https://www.google.com/maps/place/'+query)"
   ]
  },
  {
   "cell_type": "raw",
   "id": "ea4c0092",
   "metadata": {},
   "source": [
    "Example :For Seeing Videos/Music/something available on youtube Run the INITIAL Cell Say = 'python video' or 'ANYTHING video' and run the lower cell"
   ]
  },
  {
   "cell_type": "code",
   "execution_count": 10,
   "id": "1c6e9340",
   "metadata": {},
   "outputs": [],
   "source": [
    "from youtube_search import YoutubeSearch\n",
    "if 'video' in query:\n",
    "    query = query.replace('play',' ')\n",
    "    query = query.replace('on youtube',' ')\n",
    "    query = query.replace('youtube',' ')\n",
    "    results = YoutubeSearch(query,max_results=1).to_dict()\n",
    "    webbrowser.open('https://www.youtube.com/watch?v=' + results[0]['id'])"
   ]
  },
  {
   "cell_type": "code",
   "execution_count": null,
   "id": "a13d869e",
   "metadata": {},
   "outputs": [],
   "source": []
  }
 ],
 "metadata": {
  "kernelspec": {
   "display_name": "Python 3",
   "language": "python",
   "name": "python3"
  },
  "language_info": {
   "codemirror_mode": {
    "name": "ipython",
    "version": 3
   },
   "file_extension": ".py",
   "mimetype": "text/x-python",
   "name": "python",
   "nbconvert_exporter": "python",
   "pygments_lexer": "ipython3",
   "version": "3.8.8"
  }
 },
 "nbformat": 4,
 "nbformat_minor": 5
}
